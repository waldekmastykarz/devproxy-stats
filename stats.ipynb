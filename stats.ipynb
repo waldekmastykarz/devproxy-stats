{
 "cells": [
  {
   "cell_type": "markdown",
   "metadata": {},
   "source": [
    "Before you run:\n",
    "- sign in with the `gh` CLI"
   ]
  },
  {
   "cell_type": "code",
   "execution_count": null,
   "metadata": {},
   "outputs": [],
   "source": [
    "import requests\n",
    "import pandas as pd\n",
    "import matplotlib.pyplot as plt\n",
    "import subprocess"
   ]
  },
  {
   "cell_type": "code",
   "execution_count": null,
   "metadata": {},
   "outputs": [],
   "source": [
    "res = subprocess.run(['gh', 'auth', 'token'], capture_output=True, text=True)\n",
    "if res.returncode != 0:\n",
    "    print(\"Please authenticate with GitHub CLI\")\n",
    "    exit(1)\n",
    "token = res.stdout.strip()"
   ]
  },
  {
   "cell_type": "code",
   "execution_count": null,
   "metadata": {},
   "outputs": [],
   "source": [
    "def get_downloads():\n",
    "    all_releases = []\n",
    "    page = 1\n",
    "    per_page = 30\n",
    "\n",
    "    while True:\n",
    "        url = f\"https://api.github.com/repos/microsoft/dev-proxy/releases?per_page={per_page}&page={page}\"\n",
    "        headers = {\n",
    "            'accept': 'application/vnd.github+json',\n",
    "            'X-GitHub-Api-Version': '2022-11-28',\n",
    "            'authorization': f\"Bearer {token}\"\n",
    "        }\n",
    "\n",
    "        response = requests.get(url, headers=headers)\n",
    "        response.raise_for_status()\n",
    "        releases = response.json()\n",
    "\n",
    "        if len(releases) == 0:\n",
    "            break\n",
    "\n",
    "        all_releases.extend(releases)\n",
    "\n",
    "        page += 1\n",
    "\n",
    "    return all_releases\n",
    "\n",
    "def get_os(asset_name: str) -> str:\n",
    "    if \"linux\" in asset_name:\n",
    "        return \"Linux\"\n",
    "    elif \"osx\" in asset_name:\n",
    "        return \"macOS\"\n",
    "    elif \"win\" in asset_name:\n",
    "        return \"Windows\"\n",
    "    else:\n",
    "        return \"Windows\""
   ]
  },
  {
   "cell_type": "code",
   "execution_count": null,
   "metadata": {},
   "outputs": [],
   "source": [
    "downloads = get_downloads()"
   ]
  },
  {
   "cell_type": "code",
   "execution_count": null,
   "metadata": {},
   "outputs": [],
   "source": [
    "# releases\n",
    "releases = []\n",
    "for release in downloads:\n",
    "    for asset in release['assets']:\n",
    "        os = get_os(asset['name'])\n",
    "        # Uncomment to exclude anomalous Linux downloads\n",
    "        # if os == \"Linux\" and (release['tag_name'] == \"v0.22.0\" or release['tag_name'] == \"v0.23.0\"):\n",
    "        #     continue\n",
    "        \n",
    "        releases.append({\n",
    "            'tag_name': release['tag_name'],\n",
    "            'asset_name': asset['name'],\n",
    "            'download_count': asset['download_count'],\n",
    "            'os': os,\n",
    "            'date': pd.to_datetime(release['published_at'])\n",
    "        })\n",
    "df = pd.DataFrame(releases)"
   ]
  },
  {
   "cell_type": "code",
   "execution_count": null,
   "metadata": {},
   "outputs": [],
   "source": [
    "# group by tag_name and date and sum the download count, sort ascending by date\n",
    "df_by_tag = df.groupby(['tag_name', 'date']).sum(numeric_only=True).sort_values(by='date').reset_index()\n",
    "print(\"Downloads per release:\\n\")\n",
    "print(df_by_tag.to_string(index=False))"
   ]
  },
  {
   "cell_type": "code",
   "execution_count": null,
   "metadata": {},
   "outputs": [],
   "source": [
    "# group by os and date and sum the download count, include key in each row\n",
    "df_by_os_date = df.groupby(['os', 'date']).sum(numeric_only=True).reset_index()\n",
    "print(\"\\nDownloads per OS and date:\\n\")\n",
    "print(df_by_os_date.to_string(index=False))"
   ]
  },
  {
   "cell_type": "code",
   "execution_count": null,
   "metadata": {},
   "outputs": [],
   "source": [
    "df_by_os = df.groupby('os').sum(numeric_only=True).reset_index()\n",
    "print(\"\\nDownloads per OS:\\n\")\n",
    "print(df_by_os.to_string(index=False))"
   ]
  },
  {
   "cell_type": "code",
   "execution_count": null,
   "metadata": {},
   "outputs": [],
   "source": [
    "plt.figure(figsize=(10, 6))\n",
    "plt.bar(df_by_tag['tag_name'], df_by_tag['download_count'], zorder=3)\n",
    "plt.xlabel('Tag Name')\n",
    "plt.ylabel('Download Count')\n",
    "plt.title('Download Count by Tag Name')\n",
    "plt.xticks(rotation=90)\n",
    "plt.xlim(-0.5, len(df_by_tag['tag_name']) - 0.5)  # Adjust x-axis limits\n",
    "plt.grid(axis='y', alpha=0.7, zorder=0)  # Add grid lines behind bars\n",
    "plt.tight_layout()\n",
    "plt.show()\n"
   ]
  },
  {
   "cell_type": "code",
   "execution_count": null,
   "metadata": {},
   "outputs": [],
   "source": [
    "# Plot the data\n",
    "plt.figure(figsize=(10, 6))\n",
    "for os in df['os'].unique():\n",
    "    os_data = df[df['os'] == os]\n",
    "    plt.plot(os_data['date'], os_data['download_count'], label=os)\n",
    "\n",
    "\n",
    "# Set x-axis limits to the range of the data\n",
    "plt.xlim(df['date'].min(), df['date'].max())\n",
    "\n",
    "plt.xlabel('Date')\n",
    "plt.ylabel('Download Count')\n",
    "plt.title('Download Count Over Time by OS')\n",
    "plt.xticks(rotation=45)\n",
    "plt.legend()\n",
    "plt.grid(axis='y', alpha=0.7, zorder=0)  # Add grid lines behind bars\n",
    "plt.show()"
   ]
  }
 ],
 "metadata": {
  "kernelspec": {
   "display_name": ".venv",
   "language": "python",
   "name": "python3"
  },
  "language_info": {
   "codemirror_mode": {
    "name": "ipython",
    "version": 3
   },
   "file_extension": ".py",
   "mimetype": "text/x-python",
   "name": "python",
   "nbconvert_exporter": "python",
   "pygments_lexer": "ipython3",
   "version": "3.13.1"
  }
 },
 "nbformat": 4,
 "nbformat_minor": 2
}
